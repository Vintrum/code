{
 "cells": [
  {
   "cell_type": "code",
   "execution_count": 9,
   "id": "407e966f-8af3-49a5-b521-1cb9e7423d60",
   "metadata": {},
   "outputs": [],
   "source": [
    "alpha=0.0001"
   ]
  },
  {
   "cell_type": "code",
   "execution_count": 10,
   "id": "146f1644-cdab-4681-ad9c-0d6876a9f093",
   "metadata": {},
   "outputs": [],
   "source": [
    "def pdf(X,mean,cov,covi):\n",
    "    old = np.seterr(invalid='ignore')\n",
    "    meanx=X-mean\n",
    "    p=2*3.14**(-7/2)*(np.linalg.det(np.abs(cov))**(-1/2)) *np.exp((-0.5)*meanx.T@covi@meanx)\n",
    "    return p "
   ]
  },
  {
   "cell_type": "code",
   "execution_count": 11,
   "id": "545cb1ac-a8d8-4aaf-9543-69bfd0b76b5e",
   "metadata": {},
   "outputs": [],
   "source": [
    "def rik(X,cov,mu,pi,k,covi):\n",
    "    ri=np.zeros((X.shape[0],k))\n",
    "    for i in range(len(X)):\n",
    "        denom=0\n",
    "        for j in range(k):\n",
    "            denom=denom+(pi[j]*pdf(X[i],mu[j],cov[j],covi[j]))\n",
    "        for l in range(k):\n",
    "            numer=(pi[l]*pdf(X[i],mu[l],cov[l],covi[l]))\n",
    "            ri[i][l]=numer/denom\n",
    "    return ri"
   ]
  },
  {
   "cell_type": "code",
   "execution_count": 12,
   "id": "c60bf9ed-967d-4ce3-ab4b-9246f7d41a84",
   "metadata": {},
   "outputs": [],
   "source": [
    "def mun(r,mk,X,k):\n",
    "    ak=[]\n",
    "    for l in range(k):\n",
    "            m=0\n",
    "            for n in range(len(X)):\n",
    "                m=m+(r[n][l]*(X[n]))\n",
    "            ak.append(m) \n",
    "    return np.array(ak)  "
   ]
  },
  {
   "cell_type": "code",
   "execution_count": 13,
   "id": "4382ac73-fa3a-45da-bf3e-a1fc8e4a3515",
   "metadata": {},
   "outputs": [],
   "source": [
    " def nyon(r,mk,X,k,mu):\n",
    "    bk=[]\n",
    "    for l in range(k):\n",
    "            m=0\n",
    "            for n in range(len(X)):\n",
    "                m=m+r[n][l]*(np.dot(np.transpose([X[n]-mu[l]]),([X[n]-mu[l]])))\n",
    "            bk.append(m)    \n",
    "    return np.array(bk)"
   ]
  },
  {
   "cell_type": "code",
   "execution_count": 14,
   "id": "15d3c567-1068-49b1-9e3e-1b0dd1308fb6",
   "metadata": {},
   "outputs": [],
   "source": [
    "llh=[]\n",
    "def appen(X,mu,cov,covi,pi,k):\n",
    "    n=0\n",
    "    for i in range(len(X)):\n",
    "        denom=0\n",
    "        for j in range(k):\n",
    "             denom=denom+(pi[j]*pdf(X[i],mu[j],cov[j],covi[j]))\n",
    "        n=n+denom        \n",
    "    n=np.log(n)            \n",
    "#     llh.append(n,)\n",
    "    return n    "
   ]
  },
  {
   "cell_type": "code",
   "execution_count": 22,
   "id": "0aa13b78-2b93-4a6c-afb8-8405df691952",
   "metadata": {},
   "outputs": [],
   "source": [
    "def expectation(X,k,iter):\n",
    "    print(\"step\")\n",
    "    mu=[]\n",
    "    r=np.zeros((X.shape[0],k))\n",
    "    for i in range(X.shape[1]):\n",
    "        rng=np.random.default_rng()\n",
    "        m=rng.choice(X[:,i],k,replace=False)\n",
    "        mu.append(m)\n",
    "    mu=np.array(mu)\n",
    "    mu=mu.T\n",
    "    llh=[]\n",
    " \n",
    "    pi=np.zeros(k)\n",
    "    pi.fill(1/k)\n",
    "    sig=np.identity(7)\n",
    "    cov=np.zeros(k)\n",
    "    cov=np.array([(sig)]*k)\n",
    "    for i in range(0,iter):\n",
    "        cov_inv=[]\n",
    "        for i in range(k):\n",
    "            cov_inv.append(np.linalg.inv(cov[i]))\n",
    "        cov_inv=np.array(cov_inv)    \n",
    "        ri=rik(X,cov,mu,pi,k,cov_inv)\n",
    "        mk=np.sum(ri,axis=0)\n",
    "#         print(mk)\n",
    "        mu_org=np.copy(mu)\n",
    "\n",
    "        for l in range(k):\n",
    "            pi[l]=mk[l]/len(X)\n",
    "        muk=mun(ri,mk,X,k) \n",
    "        for l in range(k):\n",
    "            mu[l]=muk[l]/mk[l]\n",
    "        sun=nyon(ri,mk,X,k,mu)\n",
    "        for l in range(k):\n",
    "              cov[l]=((sun[l]/mk[l]-(mu[l]@mu[l].T)))*(1-alpha)+alpha*np.eye(7) \n",
    "        cov_inv1=[]\n",
    "        for i in range(k):\n",
    "            cov_inv1.append(np.linalg.inv(cov[i]))\n",
    "        cov_inv1=np.array(cov_inv1)    \n",
    "       \n",
    "        logll=appen(X,mu,cov,cov_inv1,pi,k)\n",
    "        llh.append(logll)\n",
    "        if i>12:\n",
    "            if llh[i]-llh[i-1]<0.005:\n",
    "                break\n",
    "    return ri,llh,cov,mu,pi"
   ]
  }
 ],
 "metadata": {
  "kernelspec": {
   "display_name": "Python 3 (ipykernel)",
   "language": "python",
   "name": "python3"
  },
  "language_info": {
   "codemirror_mode": {
    "name": "ipython",
    "version": 3
   },
   "file_extension": ".py",
   "mimetype": "text/x-python",
   "name": "python",
   "nbconvert_exporter": "python",
   "pygments_lexer": "ipython3",
   "version": "3.8.12"
  }
 },
 "nbformat": 4,
 "nbformat_minor": 5
}
