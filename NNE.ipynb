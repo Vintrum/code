{
  "cells": [
    {
      "cell_type": "code",
      "execution_count": null,
      "metadata": {
        "id": "9uQKpE0kapCo"
      },
      "outputs": [],
      "source": [
        "import numpy as np\n",
        "import pandas as pd"
      ]
    },
    {
      "cell_type": "code",
      "execution_count": null,
      "metadata": {
        "id": "WHJ6u5owatGM"
      },
      "outputs": [],
      "source": [
        "import matplotlib.pyplot as plt\n",
        "import os\n",
        "import warnings\n",
        "from keras.layers import Input, Embedding, Flatten, Dot, Dense\n",
        "from keras.models import Model\n",
        "warnings.filterwarnings('ignore')"
      ]
    },
    {
      "cell_type": "code",
      "execution_count": null,
      "metadata": {
        "id": "bCqo7-28P6zK"
      },
      "outputs": [],
      "source": [
        "dataset1 = pd.read_csv('/content/drive/MyDrive/ratings.csv')\n",
        "read=pd.read_csv('/content/drive/MyDrive/books.csv')"
      ]
    },
    {
      "cell_type": "code",
      "execution_count": null,
      "metadata": {
        "id": "GqXJqY2pH0Hr"
      },
      "outputs": [],
      "source": [
        "n_u = len(dataset1.user_id.unique())"
      ]
    },
    {
      "cell_type": "code",
      "execution_count": null,
      "metadata": {
        "id": "bQAK6RqGH0BV"
      },
      "outputs": [],
      "source": [
        "n_b = len(dataset1.book_id.unique())"
      ]
    },
    {
      "cell_type": "code",
      "source": [
        "from sklearn.model_selection import train_test_split\n",
        "train, test = train_test_split(dataset1, test_size=0.2, random_state=42)"
      ],
      "metadata": {
        "id": "l7hBMCns8Po2"
      },
      "execution_count": null,
      "outputs": []
    },
    {
      "cell_type": "code",
      "execution_count": null,
      "metadata": {
        "id": "nOcB0sufRGtc"
      },
      "outputs": [],
      "source": [
        "from keras.layers import Concatenate\n",
        "\n",
        "books = keras.layers.Input(shape=[1])\n",
        "embed1 = keras.layers.Embedding(n_b+1, 5)(books)\n",
        "vector1 = keras.layers.Flatten()(embed1)\n",
        "\n",
        "users = keras.layers.Input(shape=[1])\n",
        "emebd2 = keras.layers.Embedding(n_u+1, 5)(users)\n",
        "vector2 = keras.layers.Flatten(name=\"count\")(emebd2)\n",
        "l=[vector1, vector2]\n",
        "concat = Concatenate()(l)\n",
        "\n",
        "layer1 = keras.layers.Dense(128, activation='relu')(concat)\n",
        "layer2 = keras.layers.Dense(32, activation='relu')(layer1)\n",
        "display = keras.layers.Dense(1)(layer2)\n",
        "\n",
        "model = Model([users, books], display)\n",
        "model.compile('adam', 'mean_squared_error',metrics=[keras.metrics.RootMeanSquaredError()])"
      ]
    },
    {
      "cell_type": "code",
      "execution_count": null,
      "metadata": {
        "colab": {
          "base_uri": "https://localhost:8080/",
          "height": 397
        },
        "id": "Fg43gcnKY3hq",
        "outputId": "ef516127-ec76-49f5-ce6b-3fd666c5761e"
      },
      "outputs": [
        {
          "output_type": "stream",
          "name": "stdout",
          "text": [
            "Epoch 1/3\n",
            "24544/24544 [==============================] - 96s 4ms/step - loss: 0.8022 - root_mean_squared_error: 0.8957\n",
            "Epoch 2/3\n",
            "24544/24544 [==============================] - 96s 4ms/step - loss: 0.6872 - root_mean_squared_error: 0.8290\n",
            "Epoch 3/3\n",
            "24544/24544 [==============================] - 98s 4ms/step - loss: 0.6576 - root_mean_squared_error: 0.8109\n"
          ]
        },
        {
          "output_type": "execute_result",
          "data": {
            "text/plain": [
              "Text(0, 0.5, 'Training Error')"
            ]
          },
          "metadata": {},
          "execution_count": 283
        },
        {
          "output_type": "display_data",
          "data": {
            "image/png": "[encoded data removed]",
            "text/plain": [
              "<Figure size 432x288 with 1 Axes>"
            ]
          },
          "metadata": {
            "needs_background": "light"
          }
        }
      ],
      "source": [
        "    history = model.fit([train.user_id, train.book_id], train.rating, epochs=3, verbose=1)\n",
        "    plt.plot(history.history['loss'])\n",
        "    plt.xlabel(\"Epochs\")\n",
        "    plt.ylabel(\"Training Error\")"
      ]
    },
    {
      "cell_type": "code",
      "execution_count": null,
      "metadata": {
        "id": "4IVCXhckogK1"
      },
      "outputs": [],
      "source": [
        "# import random\n",
        "# userninput = np.array(list(set(dataset1.book_id)))\n",
        "# random.shuffle(userninput)\n",
        "#enable for random picks"
      ]
    },
    {
      "cell_type": "code",
      "source": [
        "userninput = np.array(list(set(dataset1.book_id)))"
      ],
      "metadata": {
        "id": "ZKD-AQztx1yH"
      },
      "execution_count": null,
      "outputs": []
    },
    {
      "cell_type": "code",
      "source": [
        "user = np.array([1 for i in range(len(userninput))])"
      ],
      "metadata": {
        "id": "pn8NQENuMCay"
      },
      "execution_count": null,
      "outputs": []
    },
    {
      "cell_type": "code",
      "source": [
        "pred = model.predict([user, userninput])\n",
        "\n",
        "pred = np.array([a[0] for a in pred])\n",
        "\n",
        "rbi = (-pred).argsort()[:5]"
      ],
      "metadata": {
        "id": "Ksm4FsScMn_B"
      },
      "execution_count": null,
      "outputs": []
    },
    {
      "cell_type": "code",
      "source": [
        "x=read[read['id'].isin(rbi)]"
      ],
      "metadata": {
        "id": "Y5IT9w-qMrej"
      },
      "execution_count": null,
      "outputs": []
    },
    {
      "cell_type": "code",
      "source": [
        "x"
      ],
      "metadata": {
        "colab": {
          "base_uri": "https://localhost:8080/",
          "height": 203
        },
        "id": "CmFAKKK9MuuD",
        "outputId": "fd74c731-2fc7-4bb3-a446-d0028c7128fc"
      },
      "execution_count": null,
      "outputs": [
        {
          "output_type": "execute_result",
          "data": {
            "text/html": [
              "<div>\n",
              "<style scoped>\n",
              "    .dataframe tbody tr th:only-of-type {\n",
              "        vertical-align: middle;\n",
              "    }\n",
              "\n",
              "    .dataframe tbody tr th {\n",
              "        vertical-align: top;\n",
              "    }\n",
              "\n",
              "    .dataframe thead th {\n",
              "        text-align: right;\n",
              "    }\n",
              "</style>\n",
              "<table border=\"1\" class=\"dataframe\">\n",
              "  <thead>\n",
              "    <tr style=\"text-align: right;\">\n",
              "      <th></th>\n",
              "      <th>id</th>\n",
              "      <th>book_id</th>\n",
              "      <th>isbn</th>\n",
              "      <th>authors</th>\n",
              "      <th>title</th>\n",
              "    </tr>\n",
              "  </thead>\n",
              "  <tbody>\n",
              "    <tr>\n",
              "      <th>133</th>\n",
              "      <td>134</td>\n",
              "      <td>3777732</td>\n",
              "      <td>1416914307</td>\n",
              "      <td>Cassandra Clare</td>\n",
              "      <td>City of Glass (The Mortal Instruments, #3)</td>\n",
              "    </tr>\n",
              "    <tr>\n",
              "      <th>385</th>\n",
              "      <td>386</td>\n",
              "      <td>233818</td>\n",
              "      <td>440439884</td>\n",
              "      <td>Scott O'Dell</td>\n",
              "      <td>Island of the Blue Dolphins (Island of the Blu...</td>\n",
              "    </tr>\n",
              "    <tr>\n",
              "      <th>1682</th>\n",
              "      <td>1683</td>\n",
              "      <td>1171</td>\n",
              "      <td>140143459</td>\n",
              "      <td>Michael   Lewis</td>\n",
              "      <td>Liar's Poker</td>\n",
              "    </tr>\n",
              "    <tr>\n",
              "      <th>7083</th>\n",
              "      <td>7084</td>\n",
              "      <td>25802884</td>\n",
              "      <td>NaN</td>\n",
              "      <td>Alessandra Torre</td>\n",
              "      <td>Hollywood Dirt (Hollywood Dirt, #1)</td>\n",
              "    </tr>\n",
              "    <tr>\n",
              "      <th>8364</th>\n",
              "      <td>8365</td>\n",
              "      <td>21416690</td>\n",
              "      <td>1447256239</td>\n",
              "      <td>Genevieve Cogman</td>\n",
              "      <td>The Invisible Library (The Invisible Library, #1)</td>\n",
              "    </tr>\n",
              "  </tbody>\n",
              "</table>\n",
              "</div>"
            ],
            "text/plain": [
              "        id  ...                                              title\n",
              "133    134  ...         City of Glass (The Mortal Instruments, #3)\n",
              "385    386  ...  Island of the Blue Dolphins (Island of the Blu...\n",
              "1682  1683  ...                                       Liar's Poker\n",
              "7083  7084  ...                Hollywood Dirt (Hollywood Dirt, #1)\n",
              "8364  8365  ...  The Invisible Library (The Invisible Library, #1)\n",
              "\n",
              "[5 rows x 5 columns]"
            ]
          },
          "metadata": {},
          "execution_count": 280
        }
      ]
    }
  ],
  "metadata": {
    "colab": {
      "provenance": [],
      "mount_file_id": "1nNDN0HdUgXdUTrUp_OPP5EuHo8W6jtHR",
      "authorship_tag": "ABX9TyOsE7HS1curb2cp9Oru7ZPq"
    },
    "kernelspec": {
      "display_name": "Python 3",
      "name": "python3"
    },
    "language_info": {
      "name": "python"
    }
  },
  "nbformat": 4,
  "nbformat_minor": 0
}
