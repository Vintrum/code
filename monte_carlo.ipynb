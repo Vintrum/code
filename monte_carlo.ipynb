{
  "nbformat": 4,
  "nbformat_minor": 0,
  "metadata": {
    "colab": {
      "name": "monte carlo.ipynb",
      "provenance": [],
      "authorship_tag": "ABX9TyNv7rkmAHITauaAubJhYK8z"
    },
    "kernelspec": {
      "name": "python3",
      "display_name": "Python 3"
    },
    "language_info": {
      "name": "python"
    }
  },
  "cells": [
    {
      "cell_type": "code",
      "execution_count": 318,
      "metadata": {
        "id": "nAyrEv_F68WP"
      },
      "outputs": [],
      "source": [
        "import numpy as np\n",
        "from numpy import linalg\n",
        "import random as random\n",
        "import matplotlib.pyplot as plt\n",
        "from matplotlib.pyplot import figure\n",
        "import math "
      ]
    },
    {
      "cell_type": "code",
      "source": [
        "sup_ans=[]"
      ],
      "metadata": {
        "id": "sqFQaZiD2BvL"
      },
      "execution_count": 434,
      "outputs": []
    },
    {
      "cell_type": "code",
      "source": [
        "def dot_product(v,w):\n",
        "    x,y = v\n",
        "    X,Y = w\n",
        "    return x*X + y*Y\n",
        "\n",
        "def length_sc(v):\n",
        "    x,y = v\n",
        "    return math.sqrt(x*x + y*y)\n",
        "\n",
        "def produce_vector(b,e):\n",
        "    x,y = b\n",
        "    X,Y = e\n",
        "    return (X-x, Y-y)\n",
        "\n",
        "def unit_vec(v):\n",
        "    x,y = v\n",
        "    mag = length_sc(v)\n",
        "    return (x/mag, y/mag)\n",
        "\n",
        "def vec_distance(p0,p1):\n",
        "    return length_sc(produce_vector(p0,p1))\n",
        "\n",
        "def vec_scale(v,sc):\n",
        "    x,y = v\n",
        "    return (x * sc, y * sc)\n",
        "\n",
        "def vec_add(v,w):\n",
        "    x,y = v\n",
        "    X,Y = w\n",
        "    return (x+X, y+Y)\n",
        "def distfunc2(pnt, start, end):\n",
        "    line_vec = produce_vector(start, end)\n",
        "    pnt_vec = produce_vector(start, pnt)\n",
        "    line_len = length_sc(line_vec)\n",
        "    unit_vector = unit_vec(line_vec)\n",
        "    scaled_vec = vec_scale(pnt_vec, 1.0/line_len)\n",
        "    t = dot_product(unit_vector, scaled_vec)    \n",
        "    if t < 0.0:\n",
        "        t = 0.0\n",
        "    elif t > 1.0:\n",
        "        t = 1.0\n",
        "    nearest = vec_scale(line_vec, t)\n",
        "    dist = vec_distance(nearest, pnt_vec)\n",
        "    return (dist)"
      ],
      "metadata": {
        "id": "ygdz4w1aZ3dR"
      },
      "execution_count": 320,
      "outputs": []
    },
    {
      "cell_type": "code",
      "source": [
        "x_circ=0\n",
        "y_circ=250\n",
        "radius=50\n",
        "step_size=250\n",
        "k=10\n",
        "trials=10000\n",
        "res1=[0]*(k+1)\n",
        "res2=[0]*(k+1)"
      ],
      "metadata": {
        "id": "Qh8UtDiLO9rI"
      },
      "execution_count": 511,
      "outputs": []
    },
    {
      "cell_type": "code",
      "source": [
        "ans=[]\n",
        "ans1=[]\n",
        "count_escapes=0\n",
        "prob=[0]*(k+1)\n",
        "prob1=[0]*(k+1)\n",
        "for l in range(trials):\n",
        "  a=[]\n",
        "  z=[]\n",
        "  b=[]\n",
        "  x_axis=[]\n",
        "  y_axis=[]\n",
        "  for j in range(k):\n",
        "    new=random.uniform(0,360)\n",
        "    a.append(new)\n",
        "  for i in range(k):\n",
        "    x=step_size*math.cos(a[i])\n",
        "    y=step_size*math.sin(a[i])\n",
        "    if i==0:\n",
        "      x_axis.append(0)\n",
        "      y_axis.append(0)\n",
        "    else:\n",
        "      x_axis.append(x+x_axis[i-1])\n",
        "      y_axis.append(y+y_axis[i-1])\n",
        "    if i>0:\n",
        "      # dist_point=math.sqrt((0-x_axis[i])**2+(y_circ-y_axis[i])**2)\n",
        "      dist_fin=distfunc2((0,y_circ),(x_axis[i-1],y_axis[i-1]),(x_axis[i],y_axis[i]))\n",
        "      if i==k-1:\n",
        "              pass_out=math.sqrt((0-x_axis[i])**2+(y_circ-y_axis[i])**2)\n",
        "              if pass_out>1000:\n",
        "                count_escapes+=1\n",
        "      # if dist_point<=50:\n",
        "      #   ans1.append(i+1)\n",
        "      #   z.append(i+1)  \n",
        "      #   break\n",
        "\n",
        "      if dist_fin<=radius:\n",
        "          ans.append(i+1)\n",
        "          b.append(i+1)\n",
        "          break\n",
        "  if len(b)==0:\n",
        "    ans.append(k+1)\n",
        "  # if len(z)==0:\n",
        "  #   ans1.append(k+1)  \n",
        "for i in range(k+1):\n",
        "  if ans.count(i)==0:\n",
        "    res1[i]=0\n",
        "  elif ans.count(i)>0:\n",
        "    res1[i]=ans.count(i)\n",
        "for i in range(k+1):\n",
        "  if ans1.count(i)==0:\n",
        "    res2[i]=0\n",
        "  elif ans.count(i)>0:\n",
        "    res2[i]=ans1.count(i)     \n",
        "ans1_dnf=ans.count(k+1)\n",
        "ans_2dnf=ans1.count(k+1)"
      ],
      "metadata": {
        "id": "ma22WMDeAqae"
      },
      "execution_count": 400,
      "outputs": []
    },
    {
      "cell_type": "markdown",
      "source": [
        "# Use the above for sense of smell"
      ],
      "metadata": {
        "id": "XQr2x2vElPng"
      }
    },
    {
      "cell_type": "code",
      "source": [
        "circle2 = plt.Circle((0, y_circ), 50, color='b', fill=False)\n",
        "circle1 = plt.Circle((0,0), 1000, color='g', fill=False)\n",
        "fig, ax = plt.subplots()\n",
        "line = ax.plot(x_axis, y_axis,lw=1,marker='o')\n",
        "\n",
        "fig.set_size_inches(11, 11)\n",
        "x1, y1 = [-2750, 2750], [0, 0]\n",
        "x2, y2 = [0, 0], [2750, -2750]\n",
        "\n",
        "plt.plot(x1, y1, x2, y2, marker = 'o',color='black')\n",
        "ax.set_xlim((-2750, 2750))\n",
        "ax.set_ylim((-2750, 2750))\n",
        "ax.add_patch(circle2)\n",
        "ax.add_patch(circle1)"
      ],
      "metadata": {
        "colab": {
          "base_uri": "https://localhost:8080/",
          "height": 663
        },
        "id": "1D4UbKv0E9eg",
        "outputId": "dd56c133-ba3e-4fba-fb4a-43055dd01a28"
      },
      "execution_count": 377,
      "outputs": [
        {
          "output_type": "execute_result",
          "data": {
            "text/plain": [
              "<matplotlib.patches.Circle at 0x7fd29a9923d0>"
            ]
          },
          "metadata": {},
          "execution_count": 377
        },
        {
          "output_type": "display_data",
          "data": {
            "text/plain": [
              "<Figure size 792x792 with 1 Axes>"
            ],
            "image/png": "[encoded data removed]"
          },
          "metadata": {
            "needs_background": "light"
          }
        }
      ]
    },
    {
      "cell_type": "code",
      "source": [
        "print(pass_out/trials)"
      ],
      "metadata": {
        "colab": {
          "base_uri": "https://localhost:8080/"
        },
        "id": "HV1_3MNEXdwi",
        "outputId": "b93ef396-899e-45fe-c270-598f1d9a6cf2"
      },
      "execution_count": 378,
      "outputs": [
        {
          "output_type": "stream",
          "name": "stdout",
          "text": [
            "0.14798931857604572\n"
          ]
        }
      ]
    },
    {
      "cell_type": "code",
      "source": [
        "ans=[]\n",
        "ans1=[]\n",
        "count_escapes=0\n",
        "prob=[0]*(k+1)\n",
        "prob1=[0]*(k+1)\n",
        "for l in range(trials):\n",
        "  a=[]\n",
        "  z=[]\n",
        "  b=[]\n",
        "  x_axis=[]\n",
        "  y_axis=[]\n",
        "  for j in range(k):\n",
        "    new=random.uniform(0,360)\n",
        "    a.append(new)\n",
        "  for i in range(k):\n",
        "    x=step_size*math.cos(a[i])\n",
        "    y=step_size*math.sin(a[i])\n",
        "    if i==0:\n",
        "      x_axis.append(0)\n",
        "      y_axis.append(0)\n",
        "    else:\n",
        "      x_axis.append(x+x_axis[i-1])\n",
        "      y_axis.append(y+y_axis[i-1])\n",
        "    if i>0:\n",
        "      dist_point=math.sqrt((0-x_axis[i])**2+(y_circ-y_axis[i])**2)\n",
        "      # dist_fin=distfunc2((0,y_circ),(x_axis[i-1],y_axis[i-1]),(x_axis[i],y_axis[i]))\n",
        "      if i==k-1:\n",
        "              pass_out=math.sqrt((0-x_axis[i])**2+(y_circ-y_axis[i])**2)\n",
        "              if pass_out>1000:\n",
        "                count_escapes+=1\n",
        "      if dist_point<=50:\n",
        "        ans1.append(i+1)\n",
        "        z.append(i+1)  \n",
        "        break\n",
        "\n",
        "      # if dist_fin<=radius:\n",
        "      #     ans.append(i+1)\n",
        "      #     b.append(i+1)\n",
        "      #     break\n",
        "  # if len(b)==0:\n",
        "  #   ans.append(k+1)\n",
        "  if len(z)==0:\n",
        "    ans1.append(k+1)  \n",
        "# for i in range(k+1):\n",
        "#   if ans.count(i)==0:\n",
        "#     res1[i]=0\n",
        "#   elif ans.count(i)>0:\n",
        "#     res1[i]=ans.count(i)\n",
        "for i in range(k):\n",
        "  if ans1.count(i)==0:\n",
        "    res2[i]=0\n",
        "  elif ans1.count(i)>0:\n",
        "    res2[i]=ans1.count(i)     \n",
        "# ans1_dnf=ans.count(k+1)\n",
        "ans_2dnf=ans1.count(k+1)"
      ],
      "metadata": {
        "id": "5chrU3k3dWMH"
      },
      "execution_count": 492,
      "outputs": []
    },
    {
      "cell_type": "code",
      "source": [
        "print(pass_out/trials)"
      ],
      "metadata": {
        "colab": {
          "base_uri": "https://localhost:8080/"
        },
        "id": "z_ea_7uBl7Ur",
        "outputId": "720aa0b8-8b54-4e69-e998-8a53534415e1"
      },
      "execution_count": 472,
      "outputs": [
        {
          "output_type": "stream",
          "name": "stdout",
          "text": [
            "0.23246883113337238\n"
          ]
        }
      ]
    },
    {
      "cell_type": "markdown",
      "source": [
        "# Uncomment the above for a test without a functioning sense of smell."
      ],
      "metadata": {
        "id": "9GX-a-4fhYEQ"
      }
    },
    {
      "cell_type": "code",
      "source": [
        "x_val=[]\n",
        "for i in range(1,k+1):\n",
        "  x_val.append(i)\n"
      ],
      "metadata": {
        "id": "yLPGkbDThiBQ"
      },
      "execution_count": 429,
      "outputs": []
    },
    {
      "cell_type": "code",
      "source": [
        "for i in range(len(res2)):\n",
        "  res1[i]=res1[i]/trials"
      ],
      "metadata": {
        "id": "EvSzOgU5iBja"
      },
      "execution_count": 430,
      "outputs": []
    },
    {
      "cell_type": "code",
      "source": [
        "plt.plot(x_val,res1[:-1])\n",
        "plt.xlabel(\"No of Days\")\n",
        "plt.ylabel(\"Probability\")\n",
        "plt.title(\"With a sense of smell\")"
      ],
      "metadata": {
        "colab": {
          "base_uri": "https://localhost:8080/",
          "height": 312
        },
        "id": "96GEsdTQiGEg",
        "outputId": "5d86095d-6fca-42ec-ab8b-cb4448d0edd3"
      },
      "execution_count": 431,
      "outputs": [
        {
          "output_type": "execute_result",
          "data": {
            "text/plain": [
              "Text(0.5, 1.0, 'With a sense of smell')"
            ]
          },
          "metadata": {},
          "execution_count": 431
        },
        {
          "output_type": "display_data",
          "data": {
            "text/plain": [
              "<Figure size 432x288 with 1 Axes>"
            ],
            "image/png": "[encoded data removed]"
          },
          "metadata": {
            "needs_background": "light"
          }
        }
      ]
    },
    {
      "cell_type": "code",
      "source": [
        "sup_ans.append(1-(ans1.count(k+1)/trials))"
      ],
      "metadata": {
        "id": "FINsYaWrnMzM"
      },
      "execution_count": 493,
      "outputs": []
    },
    {
      "cell_type": "code",
      "source": [
        "sup_ans=sup_ans[:-1]"
      ],
      "metadata": {
        "id": "qQCjrK_6pCBi"
      },
      "execution_count": 506,
      "outputs": []
    },
    {
      "cell_type": "code",
      "source": [
        "print(sup_ans)"
      ],
      "metadata": {
        "colab": {
          "base_uri": "https://localhost:8080/"
        },
        "id": "UK-9AnUInZKg",
        "outputId": "72ff62c7-626e-49e4-e053-3305e857dceb"
      },
      "execution_count": 500,
      "outputs": [
        {
          "output_type": "stream",
          "name": "stdout",
          "text": [
            "[0.10029999999999994, 0.10089999999999999, 0.030299999999999994, 0.01100000000000001, 0.00990000000000002, 0.0030999999999999917, 0.00039999999999995595, 0.0, 9.999999999998899e-05, 0.0, 0.0, 0.0]\n"
          ]
        }
      ]
    },
    {
      "cell_type": "code",
      "source": [
        "r=0\n",
        "new=[]\n",
        "for s in range(10):\n",
        "  new.append(r)\n",
        "  r+=250\n"
      ],
      "metadata": {
        "id": "q6c4KjTNnaWw"
      },
      "execution_count": 502,
      "outputs": []
    },
    {
      "cell_type": "code",
      "source": [
        "new.append(2525)"
      ],
      "metadata": {
        "id": "iRFQL9MJoRuY"
      },
      "execution_count": 503,
      "outputs": []
    },
    {
      "cell_type": "code",
      "source": [
        "sup_ans.insert(0,1.0)"
      ],
      "metadata": {
        "id": "IKRMALNRrzw-"
      },
      "execution_count": 509,
      "outputs": []
    },
    {
      "cell_type": "code",
      "source": [
        "plt.plot(new,sup_ans)\n",
        "plt.xlabel(\"Distance\")\n",
        "plt.ylabel(\"Probability\")\n",
        "plt.title(\"Without a sense of smell\")"
      ],
      "metadata": {
        "colab": {
          "base_uri": "https://localhost:8080/",
          "height": 312
        },
        "id": "Na1kf_WaoSxu",
        "outputId": "91b6054d-2b06-41f4-8fd3-a34d6d2fe9bb"
      },
      "execution_count": 510,
      "outputs": [
        {
          "output_type": "execute_result",
          "data": {
            "text/plain": [
              "Text(0.5, 1.0, 'Without a sense of smell')"
            ]
          },
          "metadata": {},
          "execution_count": 510
        },
        {
          "output_type": "display_data",
          "data": {
            "text/plain": [
              "<Figure size 432x288 with 1 Axes>"
            ],
            "image/png": "[encoded data removed]"
          },
          "metadata": {
            "needs_background": "light"
          }
        }
      ]
    },
    {
      "cell_type": "code",
      "source": [
        ""
      ],
      "metadata": {
        "id": "fMhQU_PwompT"
      },
      "execution_count": null,
      "outputs": []
    }
  ]
}