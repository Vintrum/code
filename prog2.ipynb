{
  "nbformat": 4,
  "nbformat_minor": 0,
  "metadata": {
    "colab": {
      "name": "prog2.ipynb",
      "provenance": [],
      "collapsed_sections": [],
      "mount_file_id": "1CvsAUGh24UUqzZbOG0EbjxkMXXWPHQpQ",
      "authorship_tag": "ABX9TyOhpyfBRmd5YXTqCORlPGrq"
    },
    "kernelspec": {
      "name": "python3",
      "display_name": "Python 3"
    },
    "language_info": {
      "name": "python"
    }
  },
  "cells": [
    {
      "cell_type": "code",
      "execution_count": 5,
      "metadata": {
        "id": "661fdS6zdPYd"
      },
      "outputs": [],
      "source": [
        "import pandas as pd\n",
        "import numpy as np\n",
        "from copy import deepcopy\n",
        "import matplotlib.pyplot as plt"
      ]
    },
    {
      "cell_type": "code",
      "source": [
        "r= open('/content/drive/MyDrive/prog2/CS205_SP_2022_Largetestdata__21.txt') \n",
        "c=r.read()       "
      ],
      "metadata": {
        "id": "kfF-x-7wdTpV"
      },
      "execution_count": 23,
      "outputs": []
    },
    {
      "cell_type": "code",
      "source": [
        "d=c.split(\"\\n\")"
      ],
      "metadata": {
        "id": "c1NKM1UnTt7q"
      },
      "execution_count": 24,
      "outputs": []
    },
    {
      "cell_type": "code",
      "source": [
        "for i in range(len(d)):\n",
        "  d[i]=d[i].split(\"  \")"
      ],
      "metadata": {
        "id": "PTVRwTHIe5wL"
      },
      "execution_count": 25,
      "outputs": []
    },
    {
      "cell_type": "code",
      "source": [
        "data=pd.DataFrame(np.zeros((len(d[0]),len(d))))"
      ],
      "metadata": {
        "id": "5e63fBsHdWRc"
      },
      "execution_count": 26,
      "outputs": []
    },
    {
      "cell_type": "code",
      "source": [
        "for i in range(len(d)):\n",
        "  for j in range(len(d[i])):\n",
        "    if d[i][j]!=\",\":\n",
        "      data[i][j]=d[i][j]\n",
        "data=data.T     \n",
        "data=data[:-1]"
      ],
      "metadata": {
        "colab": {
          "base_uri": "https://localhost:8080/"
        },
        "id": "F9TsCbv7SvFX",
        "outputId": "9c211144-0fe2-4bce-9533-10fb05c61462"
      },
      "execution_count": 27,
      "outputs": [
        {
          "output_type": "stream",
          "name": "stderr",
          "text": [
            "/usr/local/lib/python3.7/dist-packages/ipykernel_launcher.py:4: SettingWithCopyWarning: \n",
            "A value is trying to be set on a copy of a slice from a DataFrame\n",
            "\n",
            "See the caveats in the documentation: https://pandas.pydata.org/pandas-docs/stable/user_guide/indexing.html#returning-a-view-versus-a-copy\n",
            "  after removing the cwd from sys.path.\n",
            "/usr/local/lib/python3.7/dist-packages/pandas/core/indexing.py:1732: SettingWithCopyWarning: \n",
            "A value is trying to be set on a copy of a slice from a DataFrame\n",
            "\n",
            "See the caveats in the documentation: https://pandas.pydata.org/pandas-docs/stable/user_guide/indexing.html#returning-a-view-versus-a-copy\n",
            "  self._setitem_single_block(indexer, value, name)\n"
          ]
        }
      ]
    },
    {
      "cell_type": "code",
      "source": [
        "label=data[1]\n",
        "data=data.drop(labels=[0,1],axis=1)"
      ],
      "metadata": {
        "id": "kI8vwfS-Skew"
      },
      "execution_count": 28,
      "outputs": []
    },
    {
      "cell_type": "code",
      "source": [
        "data=np.array(data)"
      ],
      "metadata": {
        "id": "t7axWXuBdWRB"
      },
      "execution_count": 29,
      "outputs": []
    },
    {
      "cell_type": "code",
      "source": [
        "for i in range(len(data)):\n",
        "  for j in range(len(data[i])):\n",
        "    data[i][j]=float(data[i][j])"
      ],
      "metadata": {
        "id": "x2qF4F_5RDiJ"
      },
      "execution_count": 30,
      "outputs": []
    },
    {
      "cell_type": "code",
      "source": [
        "def disp(l):\n",
        "  best=0\n",
        "  for i in l:\n",
        "    if i[1]>best:\n",
        "      best =i[1]\n",
        "      n=i\n",
        "    else:\n",
        "      continue\n",
        "  print(\"\\nThe set with the greatest accuracy is\",n,\"having accuracy\",\"{0:.2f}\".format(best*100)+\"%\")      "
      ],
      "metadata": {
        "id": "AxpNiccP0-Tl"
      },
      "execution_count": 31,
      "outputs": []
    },
    {
      "cell_type": "code",
      "source": [
        "def accuracy(data,s):\n",
        "  # print(\"call\")\n",
        "  x=data[:][s]\n",
        "  c=0\n",
        "  for i in range(data.shape[0]):\n",
        "    n=data[i]\n",
        "    z=0\n",
        "    dist=999999999.0\n",
        "    for j in range(data.shape[0]):\n",
        "      dist_1=0\n",
        "      if data[j].all()==n.all():\n",
        "        continue\n",
        "      else:\n",
        "        for k in s:\n",
        "          dist_1+=(n[k]-data[j][k])**2\n",
        "        dist_1=dist_1**(1/2)\n",
        "        if dist_1<dist:\n",
        "          dist=dist_1\n",
        "          z=j\n",
        "    if label[z]==label[i]:\n",
        "      c+=1\n",
        "  return(c/data.shape[0])  "
      ],
      "metadata": {
        "id": "i7cDVXS36xMp"
      },
      "execution_count": 20,
      "outputs": []
    },
    {
      "cell_type": "code",
      "source": [
        "def forward_s(data):\n",
        "  max_acc=0\n",
        "  ll=[]\n",
        "  l=[]\n",
        "  for i in range(data.shape[1]):\n",
        "    max_acc=0\n",
        "    s=[]\n",
        "    for j in range(data.shape[1]):\n",
        "      acc=0\n",
        "      s=deepcopy(l)  \n",
        "      if j in s:\n",
        "        continue\n",
        "      else:\n",
        "        s.append(j) \n",
        "        acc=accuracy(data,s)  \n",
        "        if max_acc<acc:\n",
        "          z=j\n",
        "          max_acc=acc  \n",
        "    l.append(z)\n",
        "    v=deepcopy(l)\n",
        "    ll.append((v,max_acc))  \n",
        "    print(\"The best set with a feature set sized\",i+1,\"is\",l,\"having accuracy of\",\"{0:.2f}\".format(max_acc*100)+\"%\")\n",
        "  disp(ll)  "
      ],
      "metadata": {
        "id": "GIBmffbQLmNK"
      },
      "execution_count": 16,
      "outputs": []
    },
    {
      "cell_type": "code",
      "source": [
        "def backward_s(data):\n",
        "  l=[]\n",
        "  ll=[]\n",
        "  l.extend(range(0,data.shape[1]))\n",
        "  for i in range(data.shape[1]):\n",
        "    max_acc=0\n",
        "    s=[]\n",
        "    for j in l:\n",
        "      if j in l:\n",
        "        acc=0\n",
        "        s=deepcopy(l)\n",
        "        s.remove(j)\n",
        "        acc=accuracy(data,s)\n",
        "        if max_acc<acc:\n",
        "          z=j\n",
        "          max_acc=acc\n",
        "      else:\n",
        "          continue    \n",
        "    l.remove(z)\n",
        "    v=deepcopy(l)\n",
        "    ll.append((v,max_acc))\n",
        "    print(\"The best set with a feature set sized\",data.shape[1]-i-1,\"is\",l,\"having accuracy of\",\"{0:.2f}\".format(max_acc*100)+\"%\")\n",
        "  disp(ll)"
      ],
      "metadata": {
        "id": "KprgJV10ZeQd"
      },
      "execution_count": 17,
      "outputs": []
    },
    {
      "cell_type": "code",
      "source": [
        "forward_s(data)"
      ],
      "metadata": {
        "colab": {
          "base_uri": "https://localhost:8080/"
        },
        "id": "nTVEx14Dxaji",
        "outputId": "38df8825-b65a-4f8a-ac23-8da6c59d1952"
      },
      "execution_count": 21,
      "outputs": [
        {
          "output_type": "stream",
          "name": "stdout",
          "text": [
            "The best set with a feature set sized 1 is [1] having accuracy of 81.67%\n",
            "The best set with a feature set sized 2 is [1, 8] having accuracy of 95.00%\n",
            "The best set with a feature set sized 3 is [1, 8, 6] having accuracy of 93.33%\n",
            "The best set with a feature set sized 4 is [1, 8, 6, 2] having accuracy of 88.67%\n",
            "The best set with a feature set sized 5 is [1, 8, 6, 2, 3] having accuracy of 85.33%\n",
            "The best set with a feature set sized 6 is [1, 8, 6, 2, 3, 4] having accuracy of 82.00%\n",
            "The best set with a feature set sized 7 is [1, 8, 6, 2, 3, 4, 9] having accuracy of 77.67%\n",
            "The best set with a feature set sized 8 is [1, 8, 6, 2, 3, 4, 9, 0] having accuracy of 77.33%\n",
            "The best set with a feature set sized 9 is [1, 8, 6, 2, 3, 4, 9, 0, 5] having accuracy of 70.00%\n",
            "The best set with a feature set sized 10 is [1, 8, 6, 2, 3, 4, 9, 0, 5, 7] having accuracy of 65.00%\n",
            "\n",
            "The set with the greatest accuracy is ([1, 8], 0.95) having accuracy 95.00%\n"
          ]
        }
      ]
    },
    {
      "cell_type": "code",
      "source": [
        "backward_s(data)"
      ],
      "metadata": {
        "colab": {
          "base_uri": "https://localhost:8080/"
        },
        "id": "1EdEuEz2mC8n",
        "outputId": "7d5eac63-f2eb-4cc2-d25b-0c8d0ece9266"
      },
      "execution_count": 22,
      "outputs": [
        {
          "output_type": "stream",
          "name": "stdout",
          "text": [
            "The best set with a feature set sized 9 is [0, 1, 2, 3, 5, 6, 7, 8, 9] having accuracy of 73.33%\n",
            "The best set with a feature set sized 8 is [0, 1, 2, 3, 5, 6, 8, 9] having accuracy of 77.67%\n",
            "The best set with a feature set sized 7 is [0, 1, 3, 5, 6, 8, 9] having accuracy of 78.33%\n",
            "The best set with a feature set sized 6 is [0, 1, 5, 6, 8, 9] having accuracy of 80.33%\n",
            "The best set with a feature set sized 5 is [0, 1, 5, 6, 8] having accuracy of 82.67%\n",
            "The best set with a feature set sized 4 is [0, 1, 5, 8] having accuracy of 85.67%\n",
            "The best set with a feature set sized 3 is [0, 1, 8] having accuracy of 92.00%\n",
            "The best set with a feature set sized 2 is [1, 8] having accuracy of 95.00%\n",
            "The best set with a feature set sized 1 is [1] having accuracy of 81.67%\n",
            "The best set with a feature set sized 0 is [] having accuracy of 21.33%\n",
            "\n",
            "The set with the greatest accuracy is ([1, 8], 0.95) having accuracy 95.00%\n"
          ]
        }
      ]
    },
    {
      "cell_type": "code",
      "source": [
        "accuracy(data,[33])"
      ],
      "metadata": {
        "colab": {
          "base_uri": "https://localhost:8080/"
        },
        "id": "ILIdk3--PpAG",
        "outputId": "5e6609c0-ebbe-42ef-a637-a52187f973f7"
      },
      "execution_count": 32,
      "outputs": [
        {
          "output_type": "execute_result",
          "data": {
            "text/plain": [
              "0.754"
            ]
          },
          "metadata": {},
          "execution_count": 32
        }
      ]
    },
    {
      "cell_type": "code",
      "source": [
        "accuracy(data,[10])"
      ],
      "metadata": {
        "colab": {
          "base_uri": "https://localhost:8080/"
        },
        "id": "Wz0-dcyBtJKM",
        "outputId": "1d284b98-341b-462f-ae7c-dbed68eee8e2"
      },
      "execution_count": 33,
      "outputs": [
        {
          "output_type": "execute_result",
          "data": {
            "text/plain": [
              "0.846"
            ]
          },
          "metadata": {},
          "execution_count": 33
        }
      ]
    },
    {
      "cell_type": "code",
      "source": [
        "accuracy(data,[10,33])"
      ],
      "metadata": {
        "colab": {
          "base_uri": "https://localhost:8080/"
        },
        "id": "xJogQUActR2h",
        "outputId": "e36a48e4-79bf-43f0-b87a-14682a0c8b1e"
      },
      "execution_count": 34,
      "outputs": [
        {
          "output_type": "execute_result",
          "data": {
            "text/plain": [
              "0.957"
            ]
          },
          "metadata": {},
          "execution_count": 34
        }
      ]
    },
    {
      "cell_type": "code",
      "source": [
        ""
      ],
      "metadata": {
        "id": "Jb1rmC0ttTD0"
      },
      "execution_count": null,
      "outputs": []
    }
  ]
}